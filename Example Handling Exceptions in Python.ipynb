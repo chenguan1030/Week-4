{
 "cells": [
  {
   "cell_type": "code",
   "execution_count": 10,
   "id": "9019f960",
   "metadata": {},
   "outputs": [
    {
     "name": "stdout",
     "output_type": "stream",
     "text": [
      "Enter a number: 23\n",
      "0.043478260869565216\n"
     ]
    }
   ],
   "source": [
    "try:\n",
    "    user_input = input(\"Enter a number: \")\n",
    "    result = 1 / int(user_input)\n",
    "    print(result)\n",
    "except ValueError:\n",
    "    print(\"Please enter a valid integer.\")\n",
    "except ZeroDivisionError:\n",
    "    print(\"Division by zero is not allowed.\")"
   ]
  },
  {
   "cell_type": "code",
   "execution_count": 6,
   "id": "ea672898",
   "metadata": {},
   "outputs": [
    {
     "name": "stdout",
     "output_type": "stream",
     "text": [
      "Enter a number: 23456\n",
      "You entered a number!\n",
      "This is executed no matter what!\n"
     ]
    }
   ],
   "source": [
    "try:\n",
    "    number = int(input(\"Enter a number: \"))\n",
    "except :\n",
    "    # Code that runs if the exception occurs\n",
    "    print(\"That's not a number!\")\n",
    "else:\n",
    "    print(\"You entered a number!\")\n",
    "finally:\n",
    "    print(\"This is executed no matter what!\")"
   ]
  }
 ],
 "metadata": {
  "kernelspec": {
   "display_name": "Python 3 (ipykernel)",
   "language": "python",
   "name": "python3"
  },
  "language_info": {
   "codemirror_mode": {
    "name": "ipython",
    "version": 3
   },
   "file_extension": ".py",
   "mimetype": "text/x-python",
   "name": "python",
   "nbconvert_exporter": "python",
   "pygments_lexer": "ipython3",
   "version": "3.11.5"
  }
 },
 "nbformat": 4,
 "nbformat_minor": 5
}
