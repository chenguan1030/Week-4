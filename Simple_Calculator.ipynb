{
 "cells": [
  {
   "cell_type": "code",
   "execution_count": 12,
   "id": "a30bcf15",
   "metadata": {},
   "outputs": [
    {
     "name": "stdout",
     "output_type": "stream",
     "text": [
      "Enter first number: 2\n",
      "Enter first number: 3\n",
      "Enter the operation(addition, subtraction, multiplication, or division): 23\n",
      "There are somethings wrong with the input, please try again!\n",
      "Thank you for using this calculator.\n"
     ]
    }
   ],
   "source": [
    "try:\n",
    "    x = float(input(\"Enter first number: \"))\n",
    "    y = float(input(\"Enter first number: \"))\n",
    "    operation = str(input(\"Enter the operation(addition, subtraction, multiplication, or division): \"))\n",
    "    if (operation == 'addition'):\n",
    "         z=x+y\n",
    "    if (operation == 'subtraction'):\n",
    "          z=x-y\n",
    "    if (operation == 'multiplication'):\n",
    "          z=x*y\n",
    "    if (operation == 'division'):\n",
    "          z=x/y\n",
    "    print (\"The answer is \",z)\n",
    "    del z\n",
    "except ValueError:\n",
    "    print(\"That's not a number!\")\n",
    "except ZeroDivisionError:\n",
    "    print(\"Division by zero is not allowed.\")\n",
    "except:\n",
    "    print(\"There are somethings wrong with the input, please try again!\")\n",
    "finally:\n",
    "    print(\"Thank you for using this calculator.\")\n",
    "del operation"
   ]
  },
  {
   "cell_type": "code",
   "execution_count": null,
   "id": "74f39a9d",
   "metadata": {},
   "outputs": [],
   "source": []
  }
 ],
 "metadata": {
  "kernelspec": {
   "display_name": "Python 3 (ipykernel)",
   "language": "python",
   "name": "python3"
  },
  "language_info": {
   "codemirror_mode": {
    "name": "ipython",
    "version": 3
   },
   "file_extension": ".py",
   "mimetype": "text/x-python",
   "name": "python",
   "nbconvert_exporter": "python",
   "pygments_lexer": "ipython3",
   "version": "3.11.5"
  }
 },
 "nbformat": 4,
 "nbformat_minor": 5
}
