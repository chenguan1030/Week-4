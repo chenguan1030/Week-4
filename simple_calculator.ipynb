{
 "cells": [
  {
   "cell_type": "code",
   "execution_count": null,
   "id": "8821a695",
   "metadata": {},
   "outputs": [
    {
     "name": "stdout",
     "output_type": "stream",
     "text": [
      "Enter the first number = 3\n",
      "Enter the second number =4\n",
      "Enter your operation[+,-,*,/]+\n",
      "The result of the operatiion is =  7.0\n"
     ]
    }
   ],
   "source": [
    "def simple_calculator():\n",
    "    while True:\n",
    "        try:\n",
    "            x = float(input('Enter the first number = '))\n",
    "            y = float(input('Enter the second number ='))\n",
    "            operation = input('Enter your operation[+,-,*,/]')\n",
    "\n",
    "            if operation == \"+\":\n",
    "                z = x+y\n",
    "            elif operation == \"-\":\n",
    "                z = x-y\n",
    "            elif operation == \"*\":\n",
    "                z = x*y\n",
    "            elif operation == \"/\":\n",
    "                z = x/y\n",
    "            else:\n",
    "                print(\"Please enter a valid operation.\")\n",
    "                continue\n",
    "\n",
    "            print(\"The result of the operatiion is = \",z)\n",
    "            break\n",
    "\n",
    "        except ValueError:\n",
    "            print(\"Please enter a valid number.\")\n",
    "        except ZeroDivisionError:\n",
    "            print(\"Division by zero is not allowed.\")\n",
    "        except Exception as e:\n",
    "            print(\"Please enter the number again.\")\n",
    "\n",
    "simple_calculator()"
   ]
  },
  {
   "cell_type": "code",
   "execution_count": null,
   "id": "c4247d73",
   "metadata": {},
   "outputs": [],
   "source": []
  },
  {
   "cell_type": "code",
   "execution_count": null,
   "id": "a1833ae5",
   "metadata": {},
   "outputs": [],
   "source": []
  }
 ],
 "metadata": {
  "kernelspec": {
   "display_name": "Python 3 (ipykernel)",
   "language": "python",
   "name": "python3"
  },
  "language_info": {
   "codemirror_mode": {
    "name": "ipython",
    "version": 3
   },
   "file_extension": ".py",
   "mimetype": "text/x-python",
   "name": "python",
   "nbconvert_exporter": "python",
   "pygments_lexer": "ipython3",
   "version": "3.11.5"
  }
 },
 "nbformat": 4,
 "nbformat_minor": 5
}
